{
 "cells": [
  {
   "cell_type": "code",
   "execution_count": 377,
   "id": "06b0b7f9",
   "metadata": {},
   "outputs": [],
   "source": [
    "import tkinter as tk  #helps in creating UI and to convert text to sppech.also known as tk interface \n",
    "from tkinter import *\n",
    "from tkinter import filedialog\n",
    "from tkinter.ttk import Combobox # combines an entry field and a list box,contains down arrow to choose from the list\n",
    "import pyttsx3 #to convert text to speech conversion library\n",
    "import os #the os module has the fun of adding and deleting folders,retriving the content,changing directory,locating the current directory\n",
    "import gtts as gTTs #convert enter text to audio and can be shared as mp3 file\n",
    "from playsound import playsound\n",
    "\n"
   ]
  },
  {
   "cell_type": "code",
   "execution_count": 378,
   "id": "310d6264",
   "metadata": {},
   "outputs": [],
   "source": [
    "root=Tk()\n",
    "root.title(\"Text to Speech Converter\")\n",
    "root.geometry(\"1000x500+200+80\") #built in method in tk\n",
    "root.resizable(FALSE,FALSE)\n",
    "root.configure(bg=\"#F7AC40\")\n",
    "#root.mainloop()"
   ]
  },
  {
   "cell_type": "code",
   "execution_count": 379,
   "id": "476ca046",
   "metadata": {},
   "outputs": [],
   "source": [
    "tts=pyttsx3.init()\n",
    "def speaknow():\n",
    "    text=text_box.get(1.0,END)\n",
    "    gender=gender_box.get()\n",
    "    speed=speed_box.get()\n",
    "    voices=tts.getProperty('voices')\n",
    "    \n",
    "    def setvoice():\n",
    "        if(gender=='Male'):\n",
    "            tts.setProperty('voice',voices[0].id)\n",
    "            tts.say(text)\n",
    "            tts.runAndWait()\n",
    "        else:\n",
    "            tts.setProperty('voice',voices[1].id)\n",
    "            tts.say(text)\n",
    "            tts.runAndWait()\n",
    "    if(text):\n",
    "        if(speed=='Fast'):\n",
    "            tts.setProperty('rate',250)\n",
    "            setvoice()\n",
    "        elif(speed=='Medium'):\n",
    "            tts.setProperty('rate',150)\n",
    "            setvoice()\n",
    "        else:\n",
    "            tts.setProperty('rate',60)\n",
    "            setvoice()\n",
    "            "
   ]
  },
  {
   "cell_type": "code",
   "execution_count": 380,
   "id": "a0f2bd21",
   "metadata": {},
   "outputs": [],
   "source": [
    "upper_frame=Frame(root,bg=\"#14A7DD\",width=1200,height=130)\n",
    "upper_frame.place(x=0,y=0)\n",
    "Label(upper_frame,bg=\"#14A7DD\").place(x=150,y=20)\n",
    "#root.mainloop()\n"
   ]
  },
  {
   "cell_type": "code",
   "execution_count": 381,
   "id": "1c8ff8c3",
   "metadata": {},
   "outputs": [],
   "source": [
    "Label(upper_frame,text=\"Text to Speech Converter\",font=\"TimesNewroman 40 bold\",bg=\"#14A7DD\",fg='white').place(x=250,y=35)\n",
    "#root.mainloop()"
   ]
  },
  {
   "cell_type": "code",
   "execution_count": 382,
   "id": "4afeff5a",
   "metadata": {},
   "outputs": [],
   "source": [
    "text_box=Text(root,font=\"calibri 20\",bg=\"white\",relief=GROOVE,wrap=WORD,bd=0)\n",
    "text_box.place(x=30,y=150,width=940,height=170)\n",
    "#root.mainloop()"
   ]
  },
  {
   "cell_type": "code",
   "execution_count": 383,
   "id": "72e05cea",
   "metadata": {},
   "outputs": [],
   "source": [
    "gender_box=Combobox(root,values=['Male','Female'],font=\"Robote 12\",state='r',width=12)\n",
    "gender_box.place(x=340,y=400)\n",
    "gender_box.set('Male')\n",
    "#root.mainloop()"
   ]
  },
  {
   "cell_type": "code",
   "execution_count": 384,
   "id": "c4728f03",
   "metadata": {},
   "outputs": [],
   "source": [
    "speed_box=Combobox(root,values=['Fast','Medium','Slow'],font=\"Robote 12\",state='r',width=12)\n",
    "speed_box.place(x=540,y=400)\n",
    "speed_box.set('Medium')\n",
    "#root.mainloop()"
   ]
  },
  {
   "cell_type": "code",
   "execution_count": 385,
   "id": "e613ce72",
   "metadata": {},
   "outputs": [],
   "source": [
    "Label(root,text=\"Select Voice \",font='TimesNewRoman 15 bold',bg=\"#F7AC40\",fg=\"White\").place(x=340,y=370)\n",
    "Label(root,text=\"Select Speed \",font='TimesNewRoman 15 bold',bg=\"#F7AC40\",fg=\"White\").place(x=540,y=370)\n",
    "#root.mainloop()"
   ]
  },
  {
   "cell_type": "code",
   "execution_count": null,
   "id": "1084bebe",
   "metadata": {},
   "outputs": [],
   "source": [
    "#play_btn=PhotoImage(file=\"C:\\Users\\RooT\\OneDrive\\Pictures\\Saved Pictures\\OIP.jpeg\")\n",
    "play_button=Button(root,text=\"Play\",compound=CENTER,bg='white',width=83,font=\"arial 14 bold\",borderwidth='0.2c',command=\n",
    "                   speaknow)\n",
    "play_button.place(x=2,y=450)\n",
    "root.mainloop()"
   ]
  },
  {
   "cell_type": "code",
   "execution_count": null,
   "id": "587219fa",
   "metadata": {},
   "outputs": [],
   "source": []
  }
 ],
 "metadata": {
  "kernelspec": {
   "display_name": "Python 3 (ipykernel)",
   "language": "python",
   "name": "python3"
  },
  "language_info": {
   "codemirror_mode": {
    "name": "ipython",
    "version": 3
   },
   "file_extension": ".py",
   "mimetype": "text/x-python",
   "name": "python",
   "nbconvert_exporter": "python",
   "pygments_lexer": "ipython3",
   "version": "3.11.3"
  }
 },
 "nbformat": 4,
 "nbformat_minor": 5
}
